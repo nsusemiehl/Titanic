{
 "cells": [
  {
   "cell_type": "markdown",
   "metadata": {},
   "source": [
    "# Machine Learning & The Titanic\n",
    "https://www.kaggle.com/c/titanic/overview"
   ]
  },
  {
   "cell_type": "code",
   "execution_count": 56,
   "metadata": {
    "scrolled": true
   },
   "outputs": [],
   "source": [
    "import pandas as pd\n",
    "import numpy as np\n",
    "from sklearn.impute import SimpleImputer\n",
    "from sklearn.ensemble import RandomForestRegressor\n",
    "from sklearn.ensemble import RandomForestClassifier\n",
    "from sklearn.metrics import mean_absolute_error\n",
    "from sklearn.model_selection import train_test_split\n",
    "from sklearn.preprocessing import OneHotEncoder\n",
    "from sklearn.compose import ColumnTransformer\n",
    "from sklearn.pipeline import Pipeline\n",
    "from sklearn.model_selection import cross_val_score"
   ]
  },
  {
   "cell_type": "code",
   "execution_count": 2,
   "metadata": {
    "scrolled": false
   },
   "outputs": [
    {
     "name": "stdout",
     "output_type": "stream",
     "text": [
      "Index(['PassengerId', 'Survived', 'Pclass', 'Name', 'Sex', 'Age', 'SibSp',\n",
      "       'Parch', 'Ticket', 'Fare', 'Cabin', 'Embarked'],\n",
      "      dtype='object')\n",
      "missing values:  \n",
      " Age         177\n",
      "Cabin       687\n",
      "Embarked      2\n",
      "dtype: int64 \n",
      " object cols:  \n",
      " ['Name', 'Sex', 'Ticket', 'Cabin', 'Embarked']\n"
     ]
    }
   ],
   "source": [
    "# importing data\n",
    "training_data = pd.read_csv(\"train.csv\")\n",
    "\n",
    "# looking at data\n",
    "# print(training_data.head())\n",
    "print(training_data.columns)\n",
    "# print(training_data.shape)\n",
    "object_cols = [col for col in training_data.columns if training_data[col].dtype == \"object\"]\n",
    "\n",
    "missing_val_count_by_column = (training_data.isnull().sum())\n",
    "print(\"missing values: \", \"\\n\", missing_val_count_by_column[missing_val_count_by_column > 0], \"\\n\", \"object cols: \", \"\\n\", object_cols)"
   ]
  },
  {
   "cell_type": "code",
   "execution_count": 59,
   "metadata": {},
   "outputs": [],
   "source": [
    "# Read the data\n",
    "X_full = pd.read_csv(\"train.csv\", index_col='PassengerId')\n",
    "X_test_full = pd.read_csv('test.csv', index_col='PassengerId')\n",
    "\n",
    "# Remove rows with missing target, separate target from predictors\n",
    "X_full.dropna(axis=0, subset=['Survived'], inplace=True)\n",
    "y = X_full.Survived\n",
    "X_full.drop(['Survived'], axis=1, inplace=True)\n",
    "\n",
    "# Break off validation set from training data\n",
    "X_train_full, X_valid_full, y_train, y_valid = train_test_split(X_full, y, random_state=1)\n",
    "\n",
    "# Select categorical columns with relatively low cardinality (convenient but arbitrary)\n",
    "categorical_cols = [cname for cname in X_full.columns if\n",
    "                    X_full[cname].nunique() < 10 and \n",
    "                    X_full[cname].dtype == \"object\"]\n",
    "\n",
    "# Select numerical columns\n",
    "numerical_cols = [cname for cname in X_full.columns if \n",
    "                X_full[cname].dtype in ['int64', 'float64']]\n",
    "\n",
    "# Keep selected columns only\n",
    "# categorical_cols = [\"Sex\"]\n",
    "# numerical_cols = [\"Pclass\", \"SibSp\", \"Parch\", \"Age\", \"Fare\"]\n",
    "my_cols = categorical_cols + numerical_cols\n",
    "X_train = X_train_full[my_cols].copy()\n",
    "X_valid = X_valid_full[my_cols].copy()\n",
    "\n",
    "X = X_full[my_cols].copy()\n",
    "X_test = X_test_full[my_cols].copy()"
   ]
  },
  {
   "cell_type": "code",
   "execution_count": 77,
   "metadata": {},
   "outputs": [
    {
     "name": "stdout",
     "output_type": "stream",
     "text": [
      "10\n",
      "Average MAE score (across experiments):\n",
      "0.175060152082624\n"
     ]
    }
   ],
   "source": [
    "# Preprocessing for numerical data\n",
    "numerical_transformer = SimpleImputer(strategy='median')\n",
    "\n",
    "# Preprocessing for categorical data\n",
    "categorical_transformer = Pipeline(steps=[\n",
    "    ('imputer', SimpleImputer(strategy='most_frequent')),\n",
    "    ('onehot', OneHotEncoder(handle_unknown='ignore'))\n",
    "])\n",
    "\n",
    "# Bundle preprocessing for numerical and categorical data\n",
    "preprocessor = ColumnTransformer(\n",
    "    transformers=[\n",
    "        ('num', numerical_transformer, numerical_cols),\n",
    "        ('cat', categorical_transformer, categorical_cols)\n",
    "    ])\n",
    "\n",
    "# Optimize n_estimators\n",
    "def score_pipeline(n, optim_pre = preprocessor):\n",
    "    optim_model = RandomForestClassifier(n_estimators = n, random_state=1)\n",
    "    optim_pipeline = Pipeline(steps=[('preprocessor', optim_pre), ('model', optim_model)])\n",
    "    optim_scores = -1 * cross_val_score(optim_pipeline, X, y,\n",
    "                              cv=10,\n",
    "                              scoring='neg_mean_absolute_error')\n",
    "    return(optim_scores.mean())\n",
    "score_list = []\n",
    "n_est = range(1,100)\n",
    "for i in range(len(n_est)):\n",
    "    score_list.append(score_pipeline(n_est[i]))\n",
    "best_n_estimators = n_est[np.where(score_list == np.amin(score_list))[0][0]]\n",
    "print(best_n_estimators)\n",
    "\n",
    "# define model\n",
    "model = RandomForestClassifier(n_estimators = best_n_estimators, random_state=1)\n",
    "\n",
    "# Bundle preprocessing and modeling code in a pipeline\n",
    "my_pipeline = Pipeline(steps=[('preprocessor', preprocessor), ('model', model)])\n",
    "\n",
    "# Preprocessing of training data, fit model \n",
    "my_pipeline.fit(X, y)\n",
    "\n",
    "# test pipeline via cross validation\n",
    "scores = -1 * cross_val_score(my_pipeline, X, y,\n",
    "                              cv=10,\n",
    "                              scoring='neg_mean_absolute_error')\n",
    "\n",
    "# print(\"MAE scores:\\n\", scores)\n",
    "print(\"Average MAE score (across experiments):\")\n",
    "print(scores.mean())\n",
    "\n",
    "# Preprocessing of validation data, get predictions\n",
    "# preds = my_pipeline.predict(X_valid)\n",
    "# print('MAE:', mean_absolute_error(y_valid, preds))"
   ]
  },
  {
   "cell_type": "code",
   "execution_count": 78,
   "metadata": {},
   "outputs": [],
   "source": [
    "# Preprocessing of test data, fit model\n",
    "preds_test = my_pipeline.predict(X_test)\n",
    "\n",
    "# output\n",
    "output = pd.DataFrame({'PassengerId': X_test.index,\n",
    "                      'Survived': preds_test})\n",
    "output.to_csv('submission.csv', index=False)"
   ]
  },
  {
   "cell_type": "code",
   "execution_count": 38,
   "metadata": {},
   "outputs": [],
   "source": [
    "# # features to fit model off of\n",
    "# features = [\"Pclass\", \"SibSp\", \"Parch\", \"Age\", \"Sex\", \"Fare\"]\n",
    "\n",
    "# # model data\n",
    "# x = training_data[features]\n",
    "# y = training_data.Survived\n",
    "# print(x)"
   ]
  },
  {
   "cell_type": "code",
   "execution_count": 39,
   "metadata": {},
   "outputs": [],
   "source": [
    "# # preproccessing data\n",
    "\n",
    "# def score_dataset(X_train, X_valid, y_train, y_valid):\n",
    "#     model = RandomForestRegressor(n_estimators=10, random_state=1)\n",
    "#     model.fit(X_train, y_train)\n",
    "#     preds = model.predict(X_valid)\n",
    "#     return mean_absolute_error(y_valid, preds)\n",
    "\n",
    "# train_x, val_x, train_y, val_y = train_test_split(x, y, random_state = 1)\n",
    "\n",
    "# # accounting for categorical variables-------------------------------------------------------------------------\n",
    "# split_object_cols = [col for col in train_x.columns if train_x[col].dtype == \"object\"]\n",
    "\n",
    "# # Apply one-hot encoder to each column with categorical data\n",
    "# OH_encoder = OneHotEncoder(handle_unknown='ignore', sparse=False)\n",
    "# OH_cols_train = pd.DataFrame(OH_encoder.fit_transform(train_x[split_object_cols]))\n",
    "# OH_cols_valid = pd.DataFrame(OH_encoder.transform(val_x[split_object_cols]))\n",
    "\n",
    "# # One-hot encoding removed index; put it back\n",
    "# OH_cols_train.index = train_x.index\n",
    "# OH_cols_valid.index = val_x.index\n",
    "\n",
    "# # Remove categorical columns (will replace with one-hot encoding)\n",
    "# num_X_train = train_x.drop(split_object_cols, axis=1)\n",
    "# num_X_valid = val_x.drop(split_object_cols, axis=1)\n",
    "\n",
    "# # Add one-hot encoded columns to numerical features\n",
    "# OH_X_train = pd.concat([num_X_train, OH_cols_train], axis=1)\n",
    "# OH_X_valid = pd.concat([num_X_valid, OH_cols_valid], axis=1)\n",
    "\n",
    "# # accounting for missing values-----------------------------------------------------------------------------------\n",
    "# my_imputer = SimpleImputer(strategy = \"median\")\n",
    "# final_x_train = pd.DataFrame(my_imputer.fit_transform(OH_X_train))\n",
    "# final_x_valid = pd.DataFrame(my_imputer.transform(OH_X_valid))\n",
    "\n",
    "# score_dataset(final_x_train, final_x_valid, train_y, val_y)"
   ]
  },
  {
   "cell_type": "code",
   "execution_count": 40,
   "metadata": {},
   "outputs": [],
   "source": [
    "# # testing model\n",
    "\n",
    "# def score_model(split_model, x_t=final_x_train, x_v=final_x_valid, y_t=train_y, y_v=val_y):\n",
    "#     split_model.fit(x_t, y_t)\n",
    "#     split_preds = split_model.predict(x_v)\n",
    "#     return mean_absolute_error(y_v, split_preds)\n",
    "\n",
    "# # find optimal number of estimators based of minimum mean absolute deviation of prediction from split data\n",
    "# scores = []\n",
    "# n_est = range(1,100)\n",
    "# for i in range(len(n_est)):\n",
    "#     scores.append(score_model(RandomForestClassifier(n_estimators = n_est[i], random_state=1)))\n",
    "    \n",
    "# best_n_estimators = n_est[np.where(scores == np.amin(scores))[0][0]]\n",
    "\n",
    "# # define model, test validity\n",
    "# model = RandomForestClassifier(n_estimators = best_n_estimators, random_state=1)\n",
    "# score_model(model)"
   ]
  },
  {
   "cell_type": "code",
   "execution_count": 41,
   "metadata": {},
   "outputs": [],
   "source": [
    "# # actual model fit\n",
    "# OH_encoder = OneHotEncoder(handle_unknown='ignore', sparse=False)\n",
    "# OH_cols = pd.DataFrame(OH_encoder.fit_transform(x[split_object_cols]))\n",
    "# OH_cols.index = x.index\n",
    "# num_X = x.drop(split_object_cols, axis=1)\n",
    "# OH_X = pd.concat([num_X, OH_cols], axis=1)\n",
    "\n",
    "# final_x = pd.DataFrame(my_imputer.transform(OH_X))\n",
    "\n",
    "# model.fit(final_x, y)"
   ]
  },
  {
   "cell_type": "code",
   "execution_count": 42,
   "metadata": {},
   "outputs": [],
   "source": [
    "# # using model to make predictions off of test data\n",
    "# test_data = pd.read_csv(\"test.csv\")\n",
    "# x_test = test_data[features]\n",
    "\n",
    "# OH_encoder_test = OneHotEncoder(handle_unknown='ignore', sparse=False)\n",
    "# OH_cols_test = pd.DataFrame(OH_encoder_test.fit_transform(x_test[split_object_cols]))\n",
    "# OH_cols_test.index = x_test.index\n",
    "# num_X_test = x_test.drop(split_object_cols, axis=1)\n",
    "# OH_X_test = pd.concat([num_X_test, OH_cols_test], axis=1)\n",
    "\n",
    "# final_x = pd.DataFrame(my_imputer.transform(OH_X_test))\n",
    "\n",
    "# test_preds = model.predict(final_x)\n",
    "# # print(test_preds)"
   ]
  },
  {
   "cell_type": "code",
   "execution_count": 43,
   "metadata": {},
   "outputs": [],
   "source": [
    "# # creating output file\n",
    "# output = pd.DataFrame({'PassengerId': test_data.PassengerId,\n",
    "#                       'Survived': test_preds})\n",
    "# output.to_csv('submission.csv', index=False)"
   ]
  }
 ],
 "metadata": {
  "kernelspec": {
   "display_name": "Python 3",
   "language": "python",
   "name": "python3"
  },
  "language_info": {
   "codemirror_mode": {
    "name": "ipython",
    "version": 3
   },
   "file_extension": ".py",
   "mimetype": "text/x-python",
   "name": "python",
   "nbconvert_exporter": "python",
   "pygments_lexer": "ipython3",
   "version": "3.7.3"
  }
 },
 "nbformat": 4,
 "nbformat_minor": 2
}
