{
 "cells": [
  {
   "cell_type": "markdown",
   "metadata": {},
   "source": [
    "# Machine Learning & The Titanic\n",
    "https://www.kaggle.com/c/titanic/overview"
   ]
  },
  {
   "cell_type": "code",
   "execution_count": 278,
   "metadata": {
    "scrolled": true
   },
   "outputs": [],
   "source": [
    "import pandas as pd\n",
    "import numpy as np\n",
    "from sklearn.impute import SimpleImputer\n",
    "from sklearn.ensemble import RandomForestRegressor\n",
    "from sklearn.ensemble import RandomForestClassifier\n",
    "from sklearn.metrics import mean_absolute_error\n",
    "from sklearn.model_selection import train_test_split"
   ]
  },
  {
   "cell_type": "code",
   "execution_count": 281,
   "metadata": {
    "scrolled": false
   },
   "outputs": [
    {
     "name": "stdout",
     "output_type": "stream",
     "text": [
      "Index(['PassengerId', 'Survived', 'Pclass', 'Name', 'Sex', 'Age', 'SibSp',\n",
      "       'Parch', 'Ticket', 'Fare', 'Cabin', 'Embarked'],\n",
      "      dtype='object')\n",
      "(891, 12)\n",
      "missing values:  \n",
      " Age         177\n",
      "Cabin       687\n",
      "Embarked      2\n",
      "dtype: int64\n"
     ]
    }
   ],
   "source": [
    "# importing data\n",
    "training_data = pd.read_csv(\"train.csv\")\n",
    "\n",
    "# looking at data\n",
    "# print(training_data.head())\n",
    "print(training_data.columns)\n",
    "print(training_data.shape)\n",
    "missing_val_count_by_column = (training_data.isnull().sum())\n",
    "print(\"missing values: \", \"\\n\", missing_val_count_by_column[missing_val_count_by_column > 0])"
   ]
  },
  {
   "cell_type": "code",
   "execution_count": 290,
   "metadata": {},
   "outputs": [
    {
     "name": "stdout",
     "output_type": "stream",
     "text": [
      "     Pclass  SibSp  Parch   Age\n",
      "0         3      1      0  22.0\n",
      "1         1      1      0  38.0\n",
      "2         3      0      0  26.0\n",
      "3         1      1      0  35.0\n",
      "4         3      0      0  35.0\n",
      "5         3      0      0   NaN\n",
      "6         1      0      0  54.0\n",
      "7         3      3      1   2.0\n",
      "8         3      0      2  27.0\n",
      "9         2      1      0  14.0\n",
      "10        3      1      1   4.0\n",
      "11        1      0      0  58.0\n",
      "12        3      0      0  20.0\n",
      "13        3      1      5  39.0\n",
      "14        3      0      0  14.0\n",
      "15        2      0      0  55.0\n",
      "16        3      4      1   2.0\n",
      "17        2      0      0   NaN\n",
      "18        3      1      0  31.0\n",
      "19        3      0      0   NaN\n",
      "20        2      0      0  35.0\n",
      "21        2      0      0  34.0\n",
      "22        3      0      0  15.0\n",
      "23        1      0      0  28.0\n",
      "24        3      3      1   8.0\n",
      "25        3      1      5  38.0\n",
      "26        3      0      0   NaN\n",
      "27        1      3      2  19.0\n",
      "28        3      0      0   NaN\n",
      "29        3      0      0   NaN\n",
      "..      ...    ...    ...   ...\n",
      "861       2      1      0  21.0\n",
      "862       1      0      0  48.0\n",
      "863       3      8      2   NaN\n",
      "864       2      0      0  24.0\n",
      "865       2      0      0  42.0\n",
      "866       2      1      0  27.0\n",
      "867       1      0      0  31.0\n",
      "868       3      0      0   NaN\n",
      "869       3      1      1   4.0\n",
      "870       3      0      0  26.0\n",
      "871       1      1      1  47.0\n",
      "872       1      0      0  33.0\n",
      "873       3      0      0  47.0\n",
      "874       2      1      0  28.0\n",
      "875       3      0      0  15.0\n",
      "876       3      0      0  20.0\n",
      "877       3      0      0  19.0\n",
      "878       3      0      0   NaN\n",
      "879       1      0      1  56.0\n",
      "880       2      0      1  25.0\n",
      "881       3      0      0  33.0\n",
      "882       3      0      0  22.0\n",
      "883       2      0      0  28.0\n",
      "884       3      0      0  25.0\n",
      "885       3      0      5  39.0\n",
      "886       2      0      0  27.0\n",
      "887       1      0      0  19.0\n",
      "888       3      1      2   NaN\n",
      "889       1      0      0  26.0\n",
      "890       3      0      0  32.0\n",
      "\n",
      "[891 rows x 4 columns]\n"
     ]
    }
   ],
   "source": [
    "# features to fit model off of\n",
    "features = [\"Pclass\", \"SibSp\", \"Parch\", \"Age\"]\n",
    "\n",
    "# model data\n",
    "x = training_data[features]\n",
    "y = training_data.Survived\n",
    "print(x)"
   ]
  },
  {
   "cell_type": "code",
   "execution_count": 299,
   "metadata": {},
   "outputs": [
    {
     "data": {
      "text/plain": [
       "0.3183856502242152"
      ]
     },
     "execution_count": 299,
     "metadata": {},
     "output_type": "execute_result"
    }
   ],
   "source": [
    "# build model based off of split data to test validity\n",
    "train_x, val_x, train_y, val_y = train_test_split(x, y, random_state = 1)\n",
    "\n",
    "# Imputation\n",
    "my_imputer = SimpleImputer(strategy = \"median\")\n",
    "imputed_x_train = pd.DataFrame(my_imputer.fit_transform(train_x))\n",
    "imputed_x_valid = pd.DataFrame(my_imputer.transform(val_x))\n",
    "\n",
    "# Imputation removed column names; put them back\n",
    "imputed_x_train.columns = train_x.columns\n",
    "imputed_x_valid.columns = val_x.columns\n",
    "\n",
    "# function to test model validity based on mean absolute deviation\n",
    "def score_model(split_model, x_t=imputed_x_train, x_v=imputed_x_valid, y_t=train_y, y_v=val_y):\n",
    "    split_model.fit(x_t, y_t)\n",
    "    split_preds = split_model.predict(x_v)\n",
    "    return mean_absolute_error(y_v, split_preds)\n",
    "\n",
    "# find optimal number of estimators based of minimum mean absolute deviation of prediction from split data\n",
    "scores = []\n",
    "n_est = range(1,100)\n",
    "for i in range(len(n_est)):\n",
    "    scores.append(score_model(RandomForestClassifier(n_estimators = n_est[i], random_state=1)))\n",
    "    \n",
    "best_n_estimators = n_est[np.where(scores == np.amin(scores))[0][0]]\n",
    "\n",
    "# define model, test validity\n",
    "model = RandomForestClassifier(n_estimators = best_n_estimators, random_state=1)\n",
    "score_model(model)"
   ]
  },
  {
   "cell_type": "code",
   "execution_count": 300,
   "metadata": {},
   "outputs": [
    {
     "data": {
      "text/plain": [
       "RandomForestClassifier(bootstrap=True, class_weight=None, criterion='gini',\n",
       "            max_depth=None, max_features='auto', max_leaf_nodes=None,\n",
       "            min_impurity_decrease=0.0, min_impurity_split=None,\n",
       "            min_samples_leaf=1, min_samples_split=2,\n",
       "            min_weight_fraction_leaf=0.0, n_estimators=8, n_jobs=None,\n",
       "            oob_score=False, random_state=1, verbose=0, warm_start=False)"
      ]
     },
     "execution_count": 300,
     "metadata": {},
     "output_type": "execute_result"
    }
   ],
   "source": [
    "# actual model fit\n",
    "final_x = pd.DataFrame(my_imputer.transform(x))\n",
    "final_x.columns = x.columns\n",
    "\n",
    "model.fit(final_x, y)"
   ]
  },
  {
   "cell_type": "code",
   "execution_count": 301,
   "metadata": {},
   "outputs": [],
   "source": [
    "# using model to make predictions off of test data\n",
    "test_data = pd.read_csv(\"test.csv\")\n",
    "\n",
    "test_x = test_data[features]\n",
    "final_test_x = pd.DataFrame(my_imputer.transform(test_x))\n",
    "final_test_x.columns = test_x.columns\n",
    "test_preds = model.predict(final_test_x)\n",
    "# print(test_preds)"
   ]
  },
  {
   "cell_type": "code",
   "execution_count": 302,
   "metadata": {},
   "outputs": [],
   "source": [
    "# creating output file\n",
    "output = pd.DataFrame({'PassengerId': test_data.PassengerId,\n",
    "                      'Survived': test_preds})\n",
    "output.to_csv('submission.csv', index=False)"
   ]
  }
 ],
 "metadata": {
  "kernelspec": {
   "display_name": "Python 3",
   "language": "python",
   "name": "python3"
  },
  "language_info": {
   "codemirror_mode": {
    "name": "ipython",
    "version": 3
   },
   "file_extension": ".py",
   "mimetype": "text/x-python",
   "name": "python",
   "nbconvert_exporter": "python",
   "pygments_lexer": "ipython3",
   "version": "3.7.3"
  }
 },
 "nbformat": 4,
 "nbformat_minor": 2
}
